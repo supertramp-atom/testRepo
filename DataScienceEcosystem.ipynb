{
 "cells": [
  {
   "cell_type": "markdown",
   "id": "a49adce5-b458-412f-871d-6bc93a994a6d",
   "metadata": {},
   "source": [
    "# Data Science Tools and Ecosystem"
   ]
  },
  {
   "cell_type": "markdown",
   "id": "9f387eaa-ac1c-4d48-8cde-921ffa42a217",
   "metadata": {},
   "source": [
    "在这个 notebook 中，汇总了数据科学工具和生态系统。"
   ]
  },
  {
   "cell_type": "markdown",
   "id": "c027aae7-5835-4c8c-8301-e4441c098879",
   "metadata": {},
   "source": [
    "一些数据科学家使用的流行语言包括：\n",
    "\n",
    "1. Python \n",
    "2. Java\n",
    "3. R\n",
    "4. C++\n",
    "5. 5.Scala"
   ]
  },
  {
   "cell_type": "markdown",
   "id": "6c98ef61-efc0-4702-95fd-d06c17935f89",
   "metadata": {},
   "source": [
    "一些数据科学常用的库:\n",
    "\n",
    "1. numpy\n",
    "2. pandas\n",
    "3. matplotlib"
   ]
  },
  {
   "cell_type": "markdown",
   "id": "6ae70450-a2dd-4246-a0dd-c5742ee1eac5",
   "metadata": {},
   "source": [
    "|Data Science Tools | \n",
    "|-------|\n",
    "| Jupyter Notebook | \n",
    "| JupyterLab |\n",
    "| RStudio |\n",
    "| VSCode |"
   ]
  },
  {
   "cell_type": "markdown",
   "id": "e7276071-38a6-498b-badc-3dc051c30338",
   "metadata": {},
   "source": [
    "### 以下是一些在 Python 中评估算术表达式的示例。"
   ]
  },
  {
   "cell_type": "code",
   "execution_count": 6,
   "id": "dee9e1de-5d0c-419b-97a2-5e2185b0ebd5",
   "metadata": {},
   "outputs": [
    {
     "data": {
      "text/plain": [
       "17"
      ]
     },
     "execution_count": 6,
     "metadata": {},
     "output_type": "execute_result"
    }
   ],
   "source": [
    "(3*4)+5"
   ]
  },
  {
   "cell_type": "code",
   "execution_count": 7,
   "id": "8618b927-775e-482e-8cda-b4b6321d9e41",
   "metadata": {},
   "outputs": [
    {
     "data": {
      "text/plain": [
       "3.3333333333333335"
      ]
     },
     "execution_count": 7,
     "metadata": {},
     "output_type": "execute_result"
    }
   ],
   "source": [
    "200/60"
   ]
  },
  {
   "cell_type": "markdown",
   "id": "5623db6e-61f2-4d24-93ba-78d2e54dee26",
   "metadata": {},
   "source": [
    "**课程目标**\n",
    "- 描述数据科学家工具包的组成部分，并列出各种工具类别。\n",
    "- 列举数据科学中使用的开源工具。\n",
    "- 描述开源工具的相关功能。\n",
    "- 列举商业和基于云的数据科学工具的示例。"
   ]
  },
  {
   "cell_type": "markdown",
   "id": "f21dcb88-76f8-4c8e-ba7c-e579a6e8b88e",
   "metadata": {},
   "source": [
    "## 作者 阿童木"
   ]
  },
  {
   "cell_type": "code",
   "execution_count": null,
   "id": "8f582c55-70aa-4074-acfb-d4acc3075191",
   "metadata": {},
   "outputs": [],
   "source": []
  }
 ],
 "metadata": {
  "kernelspec": {
   "display_name": "Python [conda env:base] *",
   "language": "python",
   "name": "conda-base-py"
  },
  "language_info": {
   "codemirror_mode": {
    "name": "ipython",
    "version": 3
   },
   "file_extension": ".py",
   "mimetype": "text/x-python",
   "name": "python",
   "nbconvert_exporter": "python",
   "pygments_lexer": "ipython3",
   "version": "3.13.5"
  }
 },
 "nbformat": 4,
 "nbformat_minor": 5
}
