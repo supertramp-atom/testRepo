{
 "cells": [
  {
   "cell_type": "code",
   "execution_count": null,
   "id": "06509c95-ebfc-4912-a0ae-603add84a0db",
   "metadata": {},
   "outputs": [
    {
     "name": "stdout",
     "output_type": "stream",
     "text": [
      "Collecting yfinance\n",
      "  Downloading yfinance-0.2.65-py2.py3-none-any.whl.metadata (5.8 kB)\n",
      "Requirement already satisfied: pandas>=1.3.0 in /opt/anaconda3/lib/python3.13/site-packages (from yfinance) (2.2.3)\n",
      "Requirement already satisfied: numpy>=1.16.5 in /opt/anaconda3/lib/python3.13/site-packages (from yfinance) (2.1.3)\n",
      "Requirement already satisfied: requests>=2.31 in /opt/anaconda3/lib/python3.13/site-packages (from yfinance) (2.32.3)\n",
      "Collecting multitasking>=0.0.7 (from yfinance)\n",
      "  Downloading multitasking-0.0.12.tar.gz (19 kB)\n",
      "  Preparing metadata (setup.py) ... \u001b[?25ldone\n",
      "\u001b[?25hRequirement already satisfied: platformdirs>=2.0.0 in /opt/anaconda3/lib/python3.13/site-packages (from yfinance) (4.3.7)\n",
      "Requirement already satisfied: pytz>=2022.5 in /opt/anaconda3/lib/python3.13/site-packages (from yfinance) (2024.1)\n",
      "Requirement already satisfied: frozendict>=2.3.4 in /opt/anaconda3/lib/python3.13/site-packages (from yfinance) (2.4.2)\n",
      "Collecting peewee>=3.16.2 (from yfinance)\n",
      "  Downloading peewee-3.18.2.tar.gz (949 kB)\n",
      "\u001b[2K     \u001b[90m━━━━━━━━━━━━━━━━━━━━━━━━━━━━━━━━━━━━━━\u001b[0m \u001b[32m949.2/949.2 kB\u001b[0m \u001b[31m13.4 kB/s\u001b[0m eta \u001b[36m0:00:00\u001b[0ma \u001b[36m0:00:14\u001b[0m\n",
      "-"
     ]
    }
   ],
   "source": [
    "!pip install yfinance\n",
    "!pip install bs4\n",
    "!pip install nbformat\n",
    "!pip install --upgrade plotly"
   ]
  },
  {
   "cell_type": "code",
   "execution_count": null,
   "id": "0c127349-269c-4773-be4f-1f6ea7aa028f",
   "metadata": {},
   "outputs": [],
   "source": [
    "import yfinance as yf\n",
    "import pandas as pd\n",
    "import requests\n",
    "from bs4 import BeautifulSoup\n",
    "import plotly.graph_objects as go\n",
    "from plotly.subplots import make_subplots"
   ]
  },
  {
   "cell_type": "code",
   "execution_count": null,
   "id": "4ff35416-62ae-4028-8f0c-a1c9b1b10669",
   "metadata": {},
   "outputs": [],
   "source": [
    "import plotly.io as pio\n",
    "pio.renderers.default = \"iframe\""
   ]
  },
  {
   "cell_type": "code",
   "execution_count": null,
   "id": "353b1a40-14a2-4736-987a-8d9a768d1cc6",
   "metadata": {},
   "outputs": [],
   "source": [
    "import warnings\n",
    "# Ignore all warnings\n",
    "warnings.filterwarnings(\"ignore\", category=FutureWarning)"
   ]
  },
  {
   "cell_type": "code",
   "execution_count": null,
   "id": "3deef99f-67ee-4102-b432-3c4be97e61d2",
   "metadata": {},
   "outputs": [],
   "source": [
    "def make_graph(stock_data, revenue_data, stock):\n",
    "    fig = make_subplots(rows=2, cols=1, shared_xaxes=True, subplot_titles=(\"Historical Share Price\", \"Historical Revenue\"), vertical_spacing = .3)\n",
    "    stock_data_specific = stock_data[stock_data.Date <= '2021-06-14']\n",
    "    revenue_data_specific = revenue_data[revenue_data.Date <= '2021-04-30']\n",
    "    fig.add_trace(go.Scatter(x=pd.to_datetime(stock_data_specific.Date, infer_datetime_format=True), y=stock_data_specific.Close.astype(\"float\"), name=\"Share Price\"), row=1, col=1)\n",
    "    fig.add_trace(go.Scatter(x=pd.to_datetime(revenue_data_specific.Date, infer_datetime_format=True), y=revenue_data_specific.Revenue.astype(\"float\"), name=\"Revenue\"), row=2, col=1)\n",
    "    fig.update_xaxes(title_text=\"Date\", row=1, col=1)\n",
    "    fig.update_xaxes(title_text=\"Date\", row=2, col=1)\n",
    "    fig.update_yaxes(title_text=\"Price ($US)\", row=1, col=1)\n",
    "    fig.update_yaxes(title_text=\"Revenue ($US Millions)\", row=2, col=1)\n",
    "    fig.update_layout(showlegend=False,\n",
    "    height=900,\n",
    "    title=stock,\n",
    "    xaxis_rangeslider_visible=True)\n",
    "    fig.show()\n",
    "    from IPython.display import display, HTML\n",
    "    fig_html = fig.to_html()\n",
    "    display(HTML(fig_html))"
   ]
  },
  {
   "cell_type": "code",
   "execution_count": null,
   "id": "75a81fb2-425f-4868-8542-0939e11a8f5a",
   "metadata": {},
   "outputs": [],
   "source": [
    "# using yfinance to extract stock data\n",
    "tesla = yf.Ticker('TSLA')"
   ]
  },
  {
   "cell_type": "code",
   "execution_count": null,
   "id": "61e6bebc-54d4-46f9-ac72-03e4263ebc76",
   "metadata": {},
   "outputs": [],
   "source": [
    "tesla_data = tesla.history(period='max')"
   ]
  },
  {
   "cell_type": "code",
   "execution_count": null,
   "id": "0e61758f-61ca-4a76-8736-15664266bd3a",
   "metadata": {},
   "outputs": [],
   "source": [
    "type(tesla_data)\n",
    "tesla_data.reset_index(inplace=True)\n",
    "tesla_data.head()"
   ]
  },
  {
   "cell_type": "code",
   "execution_count": null,
   "id": "a05006a2-491f-4aa1-b67a-0c1e5dda3b5f",
   "metadata": {},
   "outputs": [],
   "source": [
    "# use webscraping to extract Tesla revenue data\n",
    "\n",
    "tesla_revenue_data = requests.get('https://cf-courses-data.s3.us.cloud-object-storage.appdomain.cloud/IBMDeveloperSkillsNetwork-PY0220EN-SkillsNetwork/labs/project/revenue.htm').text"
   ]
  },
  {
   "cell_type": "code",
   "execution_count": null,
   "id": "db4d0477-530e-4390-bddb-9bf480d354a5",
   "metadata": {},
   "outputs": [],
   "source": [
    "bs_soup = BeautifulSoup(tesla_revenue_data, 'html.parser')"
   ]
  },
  {
   "cell_type": "code",
   "execution_count": null,
   "id": "3d106e0d-32a8-431c-87e3-fd612e4429a7",
   "metadata": {},
   "outputs": [],
   "source": [
    "tesla_revenue = pd.DataFrame(columns=['Date', 'Revenue'])"
   ]
  },
  {
   "cell_type": "code",
   "execution_count": null,
   "id": "10fb306c-2646-4764-abb4-c0659826e02f",
   "metadata": {},
   "outputs": [],
   "source": [
    "for tr in bs_soup.find('tbody').find_all('tr'):\n",
    "    td_list = tr.find_all('td')\n",
    "    date = td_list[0].text\n",
    "    revenu = td_list[1].text\n",
    "    tesla_revenue = pd.concat([tesla_revenue,pd.DataFrame({'Date':[date] , 'Revenue':[revenu]})],ignore_index=True)"
   ]
  },
  {
   "cell_type": "code",
   "execution_count": null,
   "id": "0e8f5cd1-53a6-47a2-b4b8-bb561e93fb65",
   "metadata": {},
   "outputs": [],
   "source": [
    "tesla_revenue[\"Revenue\"] = tesla_revenue['Revenue'].str.replace(',|\\$',\"\",regex=True)"
   ]
  },
  {
   "cell_type": "code",
   "execution_count": null,
   "id": "96b99e48-4397-4e2e-82b4-86f50916ed9d",
   "metadata": {},
   "outputs": [],
   "source": [
    "tesla_revenue.dropna(inplace=True)\n",
    "\n",
    "tesla_revenue = tesla_revenue[tesla_revenue['Revenue'] != \"\"]"
   ]
  },
  {
   "cell_type": "code",
   "execution_count": null,
   "id": "1ec15bb6-b340-4bf7-b806-704278d314f8",
   "metadata": {},
   "outputs": [],
   "source": [
    "tesla_revenue.tail()"
   ]
  },
  {
   "cell_type": "code",
   "execution_count": null,
   "id": "cdcd525a-ea51-4c8b-9d08-47d1e116ba49",
   "metadata": {},
   "outputs": [],
   "source": [
    "# using yfinance to extract stock data\n",
    "gme = yf.Ticker('GME')"
   ]
  },
  {
   "cell_type": "code",
   "execution_count": null,
   "id": "a5f2c905-026b-4e6b-9439-fbf01e960a4e",
   "metadata": {},
   "outputs": [],
   "source": [
    "gme_data = gme.history(period='max')"
   ]
  },
  {
   "cell_type": "code",
   "execution_count": null,
   "id": "82c79d61-e3fe-4bba-aa5d-0e9414e62cec",
   "metadata": {},
   "outputs": [],
   "source": [
    "gme_data.reset_index(inplace=True)"
   ]
  },
  {
   "cell_type": "code",
   "execution_count": null,
   "id": "6d4f718e-dda5-496c-a01b-1c9d2101d519",
   "metadata": {},
   "outputs": [],
   "source": [
    "gme_data.head()"
   ]
  },
  {
   "cell_type": "code",
   "execution_count": null,
   "id": "eac4e1e7-4af2-48f0-8904-1b8e93b25eaf",
   "metadata": {},
   "outputs": [],
   "source": [
    "# Use Webscraping to Extract GME Revenue Data\n",
    "gme_revenue_data = requests.get('https://cf-courses-data.s3.us.cloud-object-storage.appdomain.cloud/IBMDeveloperSkillsNetwork-PY0220EN-SkillsNetwork/labs/project/stock.html').text"
   ]
  },
  {
   "cell_type": "code",
   "execution_count": null,
   "id": "cddaa842-d595-4468-a407-f46dbb953591",
   "metadata": {},
   "outputs": [],
   "source": [
    "bs_soup_gme = BeautifulSoup(gme_revenue_data, 'html.parser')\n",
    "gme_revenue = pd.DataFrame(columns=['Date', 'Revenue'])"
   ]
  },
  {
   "cell_type": "code",
   "execution_count": null,
   "id": "c0dc4386-b370-4b9b-897b-b8745ba702d5",
   "metadata": {},
   "outputs": [],
   "source": [
    "for tr in bs_soup_gme.find('tbody').find_all('tr'):\n",
    "    td_list = tr.find_all('td')\n",
    "    date = td_list[0].text\n",
    "    revenu = td_list[1].text\n",
    "    gme_revenue = pd.concat([gme_revenue,pd.DataFrame({'Date':[date] , 'Revenue':[revenu]})],ignore_index=True)\n",
    "\n",
    "gme_revenue[\"Revenue\"] = gme_revenue['Revenue'].str.replace(',|\\$',\"\",regex=True)"
   ]
  },
  {
   "cell_type": "code",
   "execution_count": null,
   "id": "a2a52e0a-2e21-4faf-9a9f-b05749e78d9e",
   "metadata": {},
   "outputs": [],
   "source": [
    "gme_revenue.tail()"
   ]
  },
  {
   "cell_type": "code",
   "execution_count": null,
   "id": "4c864442-be3c-45c0-b354-6eddfb2e9b71",
   "metadata": {},
   "outputs": [],
   "source": [
    "# Plot tesla Stock Graph\n",
    "make_graph(tesla_data,tesla_revenue,'tesla')"
   ]
  },
  {
   "cell_type": "code",
   "execution_count": null,
   "id": "054a9bb1-2726-4474-8209-1e6568a4b424",
   "metadata": {},
   "outputs": [],
   "source": [
    "# Plot gme Stock Graph\n",
    "make_graph(gme_data,gme_revenue,'GameStop')"
   ]
  }
 ],
 "metadata": {
  "kernelspec": {
   "display_name": "Python [conda env:base] *",
   "language": "python",
   "name": "conda-base-py"
  },
  "language_info": {
   "codemirror_mode": {
    "name": "ipython",
    "version": 3
   },
   "file_extension": ".py",
   "mimetype": "text/x-python",
   "name": "python",
   "nbconvert_exporter": "python",
   "pygments_lexer": "ipython3",
   "version": "3.13.5"
  }
 },
 "nbformat": 4,
 "nbformat_minor": 5
}
